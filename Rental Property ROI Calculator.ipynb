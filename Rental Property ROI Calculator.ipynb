{
 "cells": [
  {
   "cell_type": "code",
   "execution_count": 1,
   "id": "d16fb25a",
   "metadata": {},
   "outputs": [
    {
     "name": "stdout",
     "output_type": "stream",
     "text": [
      "Enter the property value: $50000\n",
      "Enter the annual rental income: $24000\n",
      "Enter the annual expenses: $19300\n",
      "\n",
      "Results:\n",
      "Property Value: $50,000.00\n",
      "Annual Rental Income: $24,000.00\n",
      "Annual Expenses: $19,300.00\n",
      "Return on Investment (ROI): 9.40%\n"
     ]
    }
   ],
   "source": [
    "class RentalProperty:\n",
    "    def __init__(self, property_value, annual_rental_income, annual_expenses):\n",
    "        self.property_value = property_value\n",
    "        self.annual_rental_income = annual_rental_income\n",
    "        self.annual_expenses = annual_expenses\n",
    "\n",
    "    def calculate_roi(self):\n",
    "        net_income = self.annual_rental_income - self.annual_expenses\n",
    "        initial_investment = self.property_value\n",
    "        roi = (net_income / initial_investment) * 100\n",
    "        return roi\n",
    "\n",
    "    def display_results(self):\n",
    "        print(\"Property Value: ${:,.2f}\".format(self.property_value))\n",
    "        print(\"Annual Rental Income: ${:,.2f}\".format(self.annual_rental_income))\n",
    "        print(\"Annual Expenses: ${:,.2f}\".format(self.annual_expenses))\n",
    "        print(\"Return on Investment (ROI): {:.2f}%\".format(self.calculate_roi()))\n",
    "\n",
    "\n",
    "def main():\n",
    "    property_value = float(input(\"Enter the property value: $\"))\n",
    "    annual_rental_income = float(input(\"Enter the annual rental income: $\"))\n",
    "    annual_expenses = float(input(\"Enter the annual expenses: $\"))\n",
    "\n",
    "    rental_property = RentalProperty(property_value, annual_rental_income, annual_expenses)\n",
    "\n",
    "    print(\"\\nResults:\")\n",
    "    rental_property.display_results()\n",
    "\n",
    "\n",
    "if __name__ == \"__main__\":\n",
    "    main()"
   ]
  },
  {
   "cell_type": "code",
   "execution_count": null,
   "id": "3f5fa3cf",
   "metadata": {},
   "outputs": [],
   "source": []
  }
 ],
 "metadata": {
  "kernelspec": {
   "display_name": "Python 3 (ipykernel)",
   "language": "python",
   "name": "python3"
  },
  "language_info": {
   "codemirror_mode": {
    "name": "ipython",
    "version": 3
   },
   "file_extension": ".py",
   "mimetype": "text/x-python",
   "name": "python",
   "nbconvert_exporter": "python",
   "pygments_lexer": "ipython3",
   "version": "3.10.9"
  }
 },
 "nbformat": 4,
 "nbformat_minor": 5
}
